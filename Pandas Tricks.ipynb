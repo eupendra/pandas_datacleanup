{
 "cells": [
  {
   "cell_type": "markdown",
   "id": "61e3e2d7",
   "metadata": {},
   "source": [
    "Why you should use Pandas even if you don't work on ML"
   ]
  },
  {
   "cell_type": "markdown",
   "id": "4ff0f427",
   "metadata": {},
   "source": [
    "### Optional Create and reading CSV"
   ]
  },
  {
   "cell_type": "code",
   "execution_count": 1,
   "id": "323c6847",
   "metadata": {},
   "outputs": [],
   "source": [
    "data_as_dict = {\n",
    "    'emp_code':100001,\n",
    "    'Name':'Upendra'\n",
    "}"
   ]
  },
  {
   "cell_type": "code",
   "execution_count": 2,
   "id": "046b6baa",
   "metadata": {},
   "outputs": [],
   "source": [
    "import pandas as pd"
   ]
  },
  {
   "cell_type": "code",
   "execution_count": 3,
   "id": "5ed0ef9a",
   "metadata": {},
   "outputs": [
    {
     "data": {
      "text/html": [
       "<div>\n",
       "<style scoped>\n",
       "    .dataframe tbody tr th:only-of-type {\n",
       "        vertical-align: middle;\n",
       "    }\n",
       "\n",
       "    .dataframe tbody tr th {\n",
       "        vertical-align: top;\n",
       "    }\n",
       "\n",
       "    .dataframe thead th {\n",
       "        text-align: right;\n",
       "    }\n",
       "</style>\n",
       "<table border=\"1\" class=\"dataframe\">\n",
       "  <thead>\n",
       "    <tr style=\"text-align: right;\">\n",
       "      <th></th>\n",
       "      <th>emp_code</th>\n",
       "      <th>Name</th>\n",
       "    </tr>\n",
       "  </thead>\n",
       "  <tbody>\n",
       "    <tr>\n",
       "      <th>0</th>\n",
       "      <td>70001</td>\n",
       "      <td>Upendra</td>\n",
       "    </tr>\n",
       "  </tbody>\n",
       "</table>\n",
       "</div>"
      ],
      "text/plain": [
       "   emp_code     Name\n",
       "0     70001  Upendra"
      ]
     },
     "execution_count": 3,
     "metadata": {},
     "output_type": "execute_result"
    }
   ],
   "source": [
    "pd.json_normalize(data_as_dict)"
   ]
  },
  {
   "cell_type": "code",
   "execution_count": 28,
   "id": "0474a830",
   "metadata": {},
   "outputs": [],
   "source": [
    "data_as_list_of_dic = [{\n",
    "    'emp_code':100001,\n",
    "    'Name':'Upendra'\n",
    "},{\n",
    "    'emp_code':10003,\n",
    "    'Name':'Singhai'\n",
    "}]"
   ]
  },
  {
   "cell_type": "code",
   "execution_count": 29,
   "id": "155a50fe",
   "metadata": {},
   "outputs": [
    {
     "data": {
      "text/html": [
       "<div>\n",
       "<style scoped>\n",
       "    .dataframe tbody tr th:only-of-type {\n",
       "        vertical-align: middle;\n",
       "    }\n",
       "\n",
       "    .dataframe tbody tr th {\n",
       "        vertical-align: top;\n",
       "    }\n",
       "\n",
       "    .dataframe thead th {\n",
       "        text-align: right;\n",
       "    }\n",
       "</style>\n",
       "<table border=\"1\" class=\"dataframe\">\n",
       "  <thead>\n",
       "    <tr style=\"text-align: right;\">\n",
       "      <th></th>\n",
       "      <th>emp_code</th>\n",
       "      <th>Name</th>\n",
       "    </tr>\n",
       "  </thead>\n",
       "  <tbody>\n",
       "    <tr>\n",
       "      <th>0</th>\n",
       "      <td>100001</td>\n",
       "      <td>Upendra</td>\n",
       "    </tr>\n",
       "    <tr>\n",
       "      <th>1</th>\n",
       "      <td>10003</td>\n",
       "      <td>Singhai</td>\n",
       "    </tr>\n",
       "  </tbody>\n",
       "</table>\n",
       "</div>"
      ],
      "text/plain": [
       "   emp_code     Name\n",
       "0    100001  Upendra\n",
       "1     10003  Singhai"
      ]
     },
     "execution_count": 29,
     "metadata": {},
     "output_type": "execute_result"
    }
   ],
   "source": [
    "pd.DataFrame(data_as_list_of_dic)"
   ]
  },
  {
   "cell_type": "code",
   "execution_count": 6,
   "id": "5a8fa1dd",
   "metadata": {},
   "outputs": [
    {
     "name": "stdout",
     "output_type": "stream",
     "text": [
      ",emp_code,Name\n",
      "0,70001,Upendra\n",
      "1,70003,Singhai\n",
      "\n"
     ]
    }
   ],
   "source": [
    "print(df.to_csv())"
   ]
  },
  {
   "cell_type": "code",
   "execution_count": 7,
   "id": "22f90a3b",
   "metadata": {},
   "outputs": [
    {
     "name": "stdout",
     "output_type": "stream",
     "text": [
      "emp_code,Name\n",
      "70001,Upendra\n",
      "70003,Singhai\n",
      "\n"
     ]
    }
   ],
   "source": [
    "print(df.to_csv(index = False))"
   ]
  },
  {
   "cell_type": "markdown",
   "id": "7262d83c",
   "metadata": {},
   "source": [
    "## Create Dummy Data"
   ]
  },
  {
   "cell_type": "code",
   "execution_count": 8,
   "id": "6a5cf38b",
   "metadata": {},
   "outputs": [
    {
     "name": "stdout",
     "output_type": "stream",
     "text": [
      "           Name         Phone Number  Zip Code Last Updated\n",
      "0    Mary Smith  tel: (499) 891-5523     28418   26|10|2022\n",
      "1     Emily Doe  tel: (414) 635-1299     50847   17|10|2022\n",
      "2    Mary Brown  tel: (744) 903-5904     29494    10|9|2020\n",
      "3   John Taylor  tel: (747) 399-4829     45646    20|3|2021\n",
      "4  Emily Taylor  tel: (382) 889-9521     45646    26|3|2021\n"
     ]
    }
   ],
   "source": [
    "import pandas as pd\n",
    "import random\n",
    "from datetime import date, timedelta\n",
    "\n",
    "# Generate dummy data\n",
    "first_names = ['John', 'Jane', 'Bob', 'Alice', 'Mike', 'Mary', 'David', 'Sarah', 'Tom', 'Emily']\n",
    "last_names = ['Smith', 'Doe', 'Johnson', 'Brown', 'White', 'Davis', 'Martin', 'Thompson', 'Taylor', 'Anderson']\n",
    "\n",
    "def random_phone_number():\n",
    "    phone =  f\"tel: ({random.randint(100, 999)}) {random.randint(100, 999)}-{random.randint(1000, 9999)}\"\n",
    "    if random.random() < 0.05:\n",
    "        phone = None\n",
    "    return phone\n",
    "\n",
    "def random_zip_code():\n",
    "    return random.randint(10000, 99999)\n",
    "\n",
    "def random_name():\n",
    "    name = f\"{random.choice(first_names)} {random.choice(last_names)}\"\n",
    "    if random.random() < 0.05:\n",
    "        spaces = random.randint(1, 5)\n",
    "        name = ' ' * spaces + name + ' ' * spaces\n",
    "    return name\n",
    "\n",
    "def random_date():\n",
    "    start_date = date(2020, 1, 1)\n",
    "    end_date = date(2022, 12, 31)\n",
    "    delta = end_date - start_date\n",
    "    random_days = random.randint(0, delta.days)\n",
    "    random_date = start_date + timedelta(days=random_days)\n",
    "    separators = ['|']\n",
    "    return f\"{random_date.day}{random.choice(separators)}{random_date.month}{random.choice(separators)}{random_date.year}\"\n",
    "\n",
    "# Generate a list of 10 random Zip codes\n",
    "zip_codes = [random_zip_code() for _ in range(10)]\n",
    "\n",
    "# Create a DataFrame\n",
    "data = {'Name': [random_name() for i in range(2000000)],\n",
    "        'Phone Number': [random_phone_number() for i in range(2000000)],\n",
    "        'Zip Code': [random.choice(zip_codes) for i in range(2000000)],\n",
    "        'Last Updated': [random_date() for i in range(2000000)]}\n",
    "df = pd.DataFrame(data)\n",
    "\n",
    "# Save DataFrame as CSV\n",
    "df.to_csv('phone_directory.csv', index=False)\n",
    "\n",
    "# Print the first few rows of the DataFrame\n",
    "print(df.head())\n"
   ]
  },
  {
   "cell_type": "code",
   "execution_count": 9,
   "id": "69338113",
   "metadata": {},
   "outputs": [
    {
     "data": {
      "text/html": [
       "<div>\n",
       "<style scoped>\n",
       "    .dataframe tbody tr th:only-of-type {\n",
       "        vertical-align: middle;\n",
       "    }\n",
       "\n",
       "    .dataframe tbody tr th {\n",
       "        vertical-align: top;\n",
       "    }\n",
       "\n",
       "    .dataframe thead th {\n",
       "        text-align: right;\n",
       "    }\n",
       "</style>\n",
       "<table border=\"1\" class=\"dataframe\">\n",
       "  <thead>\n",
       "    <tr style=\"text-align: right;\">\n",
       "      <th></th>\n",
       "      <th>Name</th>\n",
       "      <th>Phone Number</th>\n",
       "      <th>Zip Code</th>\n",
       "      <th>Last Updated</th>\n",
       "    </tr>\n",
       "  </thead>\n",
       "  <tbody>\n",
       "    <tr>\n",
       "      <th>0</th>\n",
       "      <td>Mary Smith</td>\n",
       "      <td>tel: (499) 891-5523</td>\n",
       "      <td>28418</td>\n",
       "      <td>26|10|2022</td>\n",
       "    </tr>\n",
       "    <tr>\n",
       "      <th>1</th>\n",
       "      <td>Emily Doe</td>\n",
       "      <td>tel: (414) 635-1299</td>\n",
       "      <td>50847</td>\n",
       "      <td>17|10|2022</td>\n",
       "    </tr>\n",
       "    <tr>\n",
       "      <th>2</th>\n",
       "      <td>Mary Brown</td>\n",
       "      <td>tel: (744) 903-5904</td>\n",
       "      <td>29494</td>\n",
       "      <td>10|9|2020</td>\n",
       "    </tr>\n",
       "    <tr>\n",
       "      <th>3</th>\n",
       "      <td>John Taylor</td>\n",
       "      <td>tel: (747) 399-4829</td>\n",
       "      <td>45646</td>\n",
       "      <td>20|3|2021</td>\n",
       "    </tr>\n",
       "    <tr>\n",
       "      <th>4</th>\n",
       "      <td>Emily Taylor</td>\n",
       "      <td>tel: (382) 889-9521</td>\n",
       "      <td>45646</td>\n",
       "      <td>26|3|2021</td>\n",
       "    </tr>\n",
       "  </tbody>\n",
       "</table>\n",
       "</div>"
      ],
      "text/plain": [
       "           Name         Phone Number  Zip Code Last Updated\n",
       "0    Mary Smith  tel: (499) 891-5523     28418   26|10|2022\n",
       "1     Emily Doe  tel: (414) 635-1299     50847   17|10|2022\n",
       "2    Mary Brown  tel: (744) 903-5904     29494    10|9|2020\n",
       "3   John Taylor  tel: (747) 399-4829     45646    20|3|2021\n",
       "4  Emily Taylor  tel: (382) 889-9521     45646    26|3|2021"
      ]
     },
     "execution_count": 9,
     "metadata": {},
     "output_type": "execute_result"
    }
   ],
   "source": [
    "df = pd.read_csv('phone_directory.csv')\n",
    "df.head()"
   ]
  },
  {
   "cell_type": "code",
   "execution_count": 10,
   "id": "79c5ab44",
   "metadata": {},
   "outputs": [
    {
     "name": "stdout",
     "output_type": "stream",
     "text": [
      "<class 'pandas.core.frame.DataFrame'>\n",
      "RangeIndex: 2000000 entries, 0 to 1999999\n",
      "Data columns (total 4 columns):\n",
      " #   Column        Dtype \n",
      "---  ------        ----- \n",
      " 0   Name          object\n",
      " 1   Phone Number  object\n",
      " 2   Zip Code      int64 \n",
      " 3   Last Updated  object\n",
      "dtypes: int64(1), object(3)\n",
      "memory usage: 61.0+ MB\n"
     ]
    }
   ],
   "source": [
    "df.info()"
   ]
  },
  {
   "cell_type": "code",
   "execution_count": null,
   "id": "b9c74ce3",
   "metadata": {},
   "outputs": [],
   "source": []
  },
  {
   "cell_type": "markdown",
   "id": "cdc0ba2a",
   "metadata": {},
   "source": [
    "# 1. Sort data"
   ]
  },
  {
   "cell_type": "code",
   "execution_count": 11,
   "id": "e7767ade",
   "metadata": {},
   "outputs": [
    {
     "data": {
      "text/html": [
       "<div>\n",
       "<style scoped>\n",
       "    .dataframe tbody tr th:only-of-type {\n",
       "        vertical-align: middle;\n",
       "    }\n",
       "\n",
       "    .dataframe tbody tr th {\n",
       "        vertical-align: top;\n",
       "    }\n",
       "\n",
       "    .dataframe thead th {\n",
       "        text-align: right;\n",
       "    }\n",
       "</style>\n",
       "<table border=\"1\" class=\"dataframe\">\n",
       "  <thead>\n",
       "    <tr style=\"text-align: right;\">\n",
       "      <th></th>\n",
       "      <th>Name</th>\n",
       "      <th>Phone Number</th>\n",
       "      <th>Zip Code</th>\n",
       "      <th>Last Updated</th>\n",
       "    </tr>\n",
       "  </thead>\n",
       "  <tbody>\n",
       "    <tr>\n",
       "      <th>0</th>\n",
       "      <td>Mary Smith</td>\n",
       "      <td>tel: (499) 891-5523</td>\n",
       "      <td>28418</td>\n",
       "      <td>26|10|2022</td>\n",
       "    </tr>\n",
       "    <tr>\n",
       "      <th>1</th>\n",
       "      <td>Emily Doe</td>\n",
       "      <td>tel: (414) 635-1299</td>\n",
       "      <td>50847</td>\n",
       "      <td>17|10|2022</td>\n",
       "    </tr>\n",
       "    <tr>\n",
       "      <th>2</th>\n",
       "      <td>Mary Brown</td>\n",
       "      <td>tel: (744) 903-5904</td>\n",
       "      <td>29494</td>\n",
       "      <td>10|9|2020</td>\n",
       "    </tr>\n",
       "    <tr>\n",
       "      <th>3</th>\n",
       "      <td>John Taylor</td>\n",
       "      <td>tel: (747) 399-4829</td>\n",
       "      <td>45646</td>\n",
       "      <td>20|3|2021</td>\n",
       "    </tr>\n",
       "    <tr>\n",
       "      <th>4</th>\n",
       "      <td>Emily Taylor</td>\n",
       "      <td>tel: (382) 889-9521</td>\n",
       "      <td>45646</td>\n",
       "      <td>26|3|2021</td>\n",
       "    </tr>\n",
       "  </tbody>\n",
       "</table>\n",
       "</div>"
      ],
      "text/plain": [
       "           Name         Phone Number  Zip Code Last Updated\n",
       "0    Mary Smith  tel: (499) 891-5523     28418   26|10|2022\n",
       "1     Emily Doe  tel: (414) 635-1299     50847   17|10|2022\n",
       "2    Mary Brown  tel: (744) 903-5904     29494    10|9|2020\n",
       "3   John Taylor  tel: (747) 399-4829     45646    20|3|2021\n",
       "4  Emily Taylor  tel: (382) 889-9521     45646    26|3|2021"
      ]
     },
     "execution_count": 11,
     "metadata": {},
     "output_type": "execute_result"
    }
   ],
   "source": [
    "df.head()"
   ]
  },
  {
   "cell_type": "code",
   "execution_count": 12,
   "id": "0712012a",
   "metadata": {},
   "outputs": [
    {
     "data": {
      "text/plain": [
       "(2000000, 4)"
      ]
     },
     "execution_count": 12,
     "metadata": {},
     "output_type": "execute_result"
    }
   ],
   "source": [
    "df.shape"
   ]
  },
  {
   "cell_type": "code",
   "execution_count": 13,
   "id": "f5af2249",
   "metadata": {},
   "outputs": [],
   "source": [
    "df.sort_values('Zip Code', ascending=True, inplace=True)"
   ]
  },
  {
   "cell_type": "code",
   "execution_count": 14,
   "id": "d8c2d994",
   "metadata": {},
   "outputs": [
    {
     "data": {
      "text/html": [
       "<div>\n",
       "<style scoped>\n",
       "    .dataframe tbody tr th:only-of-type {\n",
       "        vertical-align: middle;\n",
       "    }\n",
       "\n",
       "    .dataframe tbody tr th {\n",
       "        vertical-align: top;\n",
       "    }\n",
       "\n",
       "    .dataframe thead th {\n",
       "        text-align: right;\n",
       "    }\n",
       "</style>\n",
       "<table border=\"1\" class=\"dataframe\">\n",
       "  <thead>\n",
       "    <tr style=\"text-align: right;\">\n",
       "      <th></th>\n",
       "      <th>Phone Number</th>\n",
       "    </tr>\n",
       "    <tr>\n",
       "      <th>Zip Code</th>\n",
       "      <th></th>\n",
       "    </tr>\n",
       "  </thead>\n",
       "  <tbody>\n",
       "    <tr>\n",
       "      <th>14422</th>\n",
       "      <td>189940</td>\n",
       "    </tr>\n",
       "    <tr>\n",
       "      <th>16194</th>\n",
       "      <td>190181</td>\n",
       "    </tr>\n",
       "    <tr>\n",
       "      <th>23595</th>\n",
       "      <td>189860</td>\n",
       "    </tr>\n",
       "    <tr>\n",
       "      <th>28418</th>\n",
       "      <td>189602</td>\n",
       "    </tr>\n",
       "    <tr>\n",
       "      <th>29494</th>\n",
       "      <td>189709</td>\n",
       "    </tr>\n",
       "    <tr>\n",
       "      <th>39471</th>\n",
       "      <td>189929</td>\n",
       "    </tr>\n",
       "    <tr>\n",
       "      <th>45646</th>\n",
       "      <td>190288</td>\n",
       "    </tr>\n",
       "    <tr>\n",
       "      <th>50847</th>\n",
       "      <td>190606</td>\n",
       "    </tr>\n",
       "    <tr>\n",
       "      <th>67761</th>\n",
       "      <td>190045</td>\n",
       "    </tr>\n",
       "    <tr>\n",
       "      <th>98776</th>\n",
       "      <td>190288</td>\n",
       "    </tr>\n",
       "  </tbody>\n",
       "</table>\n",
       "</div>"
      ],
      "text/plain": [
       "          Phone Number\n",
       "Zip Code              \n",
       "14422           189940\n",
       "16194           190181\n",
       "23595           189860\n",
       "28418           189602\n",
       "29494           189709\n",
       "39471           189929\n",
       "45646           190288\n",
       "50847           190606\n",
       "67761           190045\n",
       "98776           190288"
      ]
     },
     "execution_count": 14,
     "metadata": {},
     "output_type": "execute_result"
    }
   ],
   "source": [
    " pd.pivot_table(df, values='Phone Number', index='Zip Code', aggfunc='count')"
   ]
  },
  {
   "cell_type": "markdown",
   "id": "70e596b1",
   "metadata": {},
   "source": [
    "# 2. Remove White Space"
   ]
  },
  {
   "cell_type": "code",
   "execution_count": 15,
   "id": "a4ad009f",
   "metadata": {},
   "outputs": [],
   "source": [
    "#clear whitespace\n",
    "df['Name']=df['Name'].str.strip()"
   ]
  },
  {
   "cell_type": "markdown",
   "id": "73f2a871",
   "metadata": {},
   "source": [
    "# 3. Drop rows with missing data"
   ]
  },
  {
   "cell_type": "code",
   "execution_count": 16,
   "id": "10110b58",
   "metadata": {
    "scrolled": true
   },
   "outputs": [
    {
     "data": {
      "text/html": [
       "<div>\n",
       "<style scoped>\n",
       "    .dataframe tbody tr th:only-of-type {\n",
       "        vertical-align: middle;\n",
       "    }\n",
       "\n",
       "    .dataframe tbody tr th {\n",
       "        vertical-align: top;\n",
       "    }\n",
       "\n",
       "    .dataframe thead th {\n",
       "        text-align: right;\n",
       "    }\n",
       "</style>\n",
       "<table border=\"1\" class=\"dataframe\">\n",
       "  <thead>\n",
       "    <tr style=\"text-align: right;\">\n",
       "      <th></th>\n",
       "      <th>Name</th>\n",
       "      <th>Phone Number</th>\n",
       "      <th>Zip Code</th>\n",
       "      <th>Last Updated</th>\n",
       "    </tr>\n",
       "  </thead>\n",
       "  <tbody>\n",
       "    <tr>\n",
       "      <th>250611</th>\n",
       "      <td>Mary Johnson</td>\n",
       "      <td>NaN</td>\n",
       "      <td>14422</td>\n",
       "      <td>24|12|2020</td>\n",
       "    </tr>\n",
       "    <tr>\n",
       "      <th>250676</th>\n",
       "      <td>Jane Johnson</td>\n",
       "      <td>NaN</td>\n",
       "      <td>14422</td>\n",
       "      <td>10|1|2021</td>\n",
       "    </tr>\n",
       "    <tr>\n",
       "      <th>250538</th>\n",
       "      <td>Emily Taylor</td>\n",
       "      <td>NaN</td>\n",
       "      <td>14422</td>\n",
       "      <td>18|4|2022</td>\n",
       "    </tr>\n",
       "    <tr>\n",
       "      <th>1561255</th>\n",
       "      <td>Emily White</td>\n",
       "      <td>NaN</td>\n",
       "      <td>14422</td>\n",
       "      <td>2|8|2021</td>\n",
       "    </tr>\n",
       "    <tr>\n",
       "      <th>965731</th>\n",
       "      <td>Tom Taylor</td>\n",
       "      <td>NaN</td>\n",
       "      <td>14422</td>\n",
       "      <td>4|3|2020</td>\n",
       "    </tr>\n",
       "    <tr>\n",
       "      <th>...</th>\n",
       "      <td>...</td>\n",
       "      <td>...</td>\n",
       "      <td>...</td>\n",
       "      <td>...</td>\n",
       "    </tr>\n",
       "    <tr>\n",
       "      <th>313069</th>\n",
       "      <td>David Brown</td>\n",
       "      <td>NaN</td>\n",
       "      <td>98776</td>\n",
       "      <td>9|6|2022</td>\n",
       "    </tr>\n",
       "    <tr>\n",
       "      <th>313163</th>\n",
       "      <td>Sarah Taylor</td>\n",
       "      <td>NaN</td>\n",
       "      <td>98776</td>\n",
       "      <td>20|8|2021</td>\n",
       "    </tr>\n",
       "    <tr>\n",
       "      <th>675799</th>\n",
       "      <td>Alice Anderson</td>\n",
       "      <td>NaN</td>\n",
       "      <td>98776</td>\n",
       "      <td>25|6|2021</td>\n",
       "    </tr>\n",
       "    <tr>\n",
       "      <th>985541</th>\n",
       "      <td>Sarah Taylor</td>\n",
       "      <td>NaN</td>\n",
       "      <td>98776</td>\n",
       "      <td>26|2|2022</td>\n",
       "    </tr>\n",
       "    <tr>\n",
       "      <th>610454</th>\n",
       "      <td>Mike Davis</td>\n",
       "      <td>NaN</td>\n",
       "      <td>98776</td>\n",
       "      <td>6|3|2021</td>\n",
       "    </tr>\n",
       "  </tbody>\n",
       "</table>\n",
       "<p>99552 rows × 4 columns</p>\n",
       "</div>"
      ],
      "text/plain": [
       "                   Name Phone Number  Zip Code Last Updated\n",
       "250611     Mary Johnson          NaN     14422   24|12|2020\n",
       "250676     Jane Johnson          NaN     14422    10|1|2021\n",
       "250538     Emily Taylor          NaN     14422    18|4|2022\n",
       "1561255     Emily White          NaN     14422     2|8|2021\n",
       "965731       Tom Taylor          NaN     14422     4|3|2020\n",
       "...                 ...          ...       ...          ...\n",
       "313069      David Brown          NaN     98776     9|6|2022\n",
       "313163     Sarah Taylor          NaN     98776    20|8|2021\n",
       "675799   Alice Anderson          NaN     98776    25|6|2021\n",
       "985541     Sarah Taylor          NaN     98776    26|2|2022\n",
       "610454       Mike Davis          NaN     98776     6|3|2021\n",
       "\n",
       "[99552 rows x 4 columns]"
      ]
     },
     "execution_count": 16,
     "metadata": {},
     "output_type": "execute_result"
    }
   ],
   "source": [
    "# find\n",
    "df[df['Phone Number'].isna()]"
   ]
  },
  {
   "cell_type": "code",
   "execution_count": 17,
   "id": "e8ed7be5",
   "metadata": {},
   "outputs": [
    {
     "data": {
      "text/html": [
       "<div>\n",
       "<style scoped>\n",
       "    .dataframe tbody tr th:only-of-type {\n",
       "        vertical-align: middle;\n",
       "    }\n",
       "\n",
       "    .dataframe tbody tr th {\n",
       "        vertical-align: top;\n",
       "    }\n",
       "\n",
       "    .dataframe thead th {\n",
       "        text-align: right;\n",
       "    }\n",
       "</style>\n",
       "<table border=\"1\" class=\"dataframe\">\n",
       "  <thead>\n",
       "    <tr style=\"text-align: right;\">\n",
       "      <th></th>\n",
       "      <th>Name</th>\n",
       "      <th>Phone Number</th>\n",
       "      <th>Zip Code</th>\n",
       "      <th>Last Updated</th>\n",
       "    </tr>\n",
       "  </thead>\n",
       "  <tbody>\n",
       "  </tbody>\n",
       "</table>\n",
       "</div>"
      ],
      "text/plain": [
       "Empty DataFrame\n",
       "Columns: [Name, Phone Number, Zip Code, Last Updated]\n",
       "Index: []"
      ]
     },
     "execution_count": 17,
     "metadata": {},
     "output_type": "execute_result"
    }
   ],
   "source": [
    "# Find empty strings\n",
    "df[df['Name'].str.strip() == '']\n",
    "# drop - reversed the condition \n",
    "# df = df[df['Name'].str.strip() != '']"
   ]
  },
  {
   "cell_type": "code",
   "execution_count": 18,
   "id": "91670edc",
   "metadata": {},
   "outputs": [],
   "source": [
    "# drop\n",
    "df.dropna(subset=['Phone Number'], inplace=True)"
   ]
  },
  {
   "cell_type": "code",
   "execution_count": 19,
   "id": "d7bc6bff",
   "metadata": {},
   "outputs": [
    {
     "data": {
      "text/html": [
       "<div>\n",
       "<style scoped>\n",
       "    .dataframe tbody tr th:only-of-type {\n",
       "        vertical-align: middle;\n",
       "    }\n",
       "\n",
       "    .dataframe tbody tr th {\n",
       "        vertical-align: top;\n",
       "    }\n",
       "\n",
       "    .dataframe thead th {\n",
       "        text-align: right;\n",
       "    }\n",
       "</style>\n",
       "<table border=\"1\" class=\"dataframe\">\n",
       "  <thead>\n",
       "    <tr style=\"text-align: right;\">\n",
       "      <th></th>\n",
       "      <th>Name</th>\n",
       "      <th>Phone Number</th>\n",
       "      <th>Zip Code</th>\n",
       "      <th>Last Updated</th>\n",
       "    </tr>\n",
       "  </thead>\n",
       "  <tbody>\n",
       "    <tr>\n",
       "      <th>1999999</th>\n",
       "      <td>Sarah Martin</td>\n",
       "      <td>tel: (427) 726-4006</td>\n",
       "      <td>14422</td>\n",
       "      <td>19|7|2021</td>\n",
       "    </tr>\n",
       "    <tr>\n",
       "      <th>590819</th>\n",
       "      <td>Jane White</td>\n",
       "      <td>tel: (968) 579-1733</td>\n",
       "      <td>14422</td>\n",
       "      <td>25|1|2022</td>\n",
       "    </tr>\n",
       "    <tr>\n",
       "      <th>250605</th>\n",
       "      <td>Tom White</td>\n",
       "      <td>tel: (685) 543-6596</td>\n",
       "      <td>14422</td>\n",
       "      <td>18|6|2020</td>\n",
       "    </tr>\n",
       "    <tr>\n",
       "      <th>965547</th>\n",
       "      <td>Sarah Davis</td>\n",
       "      <td>tel: (314) 769-6408</td>\n",
       "      <td>14422</td>\n",
       "      <td>25|3|2020</td>\n",
       "    </tr>\n",
       "    <tr>\n",
       "      <th>1561217</th>\n",
       "      <td>John Davis</td>\n",
       "      <td>tel: (329) 655-1008</td>\n",
       "      <td>14422</td>\n",
       "      <td>19|10|2022</td>\n",
       "    </tr>\n",
       "    <tr>\n",
       "      <th>...</th>\n",
       "      <td>...</td>\n",
       "      <td>...</td>\n",
       "      <td>...</td>\n",
       "      <td>...</td>\n",
       "    </tr>\n",
       "    <tr>\n",
       "      <th>985551</th>\n",
       "      <td>David Thompson</td>\n",
       "      <td>tel: (759) 922-1735</td>\n",
       "      <td>98776</td>\n",
       "      <td>23|11|2022</td>\n",
       "    </tr>\n",
       "    <tr>\n",
       "      <th>313134</th>\n",
       "      <td>Emily Thompson</td>\n",
       "      <td>tel: (261) 314-1860</td>\n",
       "      <td>98776</td>\n",
       "      <td>26|5|2022</td>\n",
       "    </tr>\n",
       "    <tr>\n",
       "      <th>985553</th>\n",
       "      <td>Tom Doe</td>\n",
       "      <td>tel: (396) 561-3616</td>\n",
       "      <td>98776</td>\n",
       "      <td>22|6|2022</td>\n",
       "    </tr>\n",
       "    <tr>\n",
       "      <th>1809088</th>\n",
       "      <td>Emily Johnson</td>\n",
       "      <td>tel: (700) 784-6363</td>\n",
       "      <td>98776</td>\n",
       "      <td>14|5|2022</td>\n",
       "    </tr>\n",
       "    <tr>\n",
       "      <th>109128</th>\n",
       "      <td>Bob Anderson</td>\n",
       "      <td>tel: (191) 496-4240</td>\n",
       "      <td>98776</td>\n",
       "      <td>7|12|2020</td>\n",
       "    </tr>\n",
       "  </tbody>\n",
       "</table>\n",
       "<p>1900448 rows × 4 columns</p>\n",
       "</div>"
      ],
      "text/plain": [
       "                   Name         Phone Number  Zip Code Last Updated\n",
       "1999999    Sarah Martin  tel: (427) 726-4006     14422    19|7|2021\n",
       "590819       Jane White  tel: (968) 579-1733     14422    25|1|2022\n",
       "250605        Tom White  tel: (685) 543-6596     14422    18|6|2020\n",
       "965547      Sarah Davis  tel: (314) 769-6408     14422    25|3|2020\n",
       "1561217      John Davis  tel: (329) 655-1008     14422   19|10|2022\n",
       "...                 ...                  ...       ...          ...\n",
       "985551   David Thompson  tel: (759) 922-1735     98776   23|11|2022\n",
       "313134   Emily Thompson  tel: (261) 314-1860     98776    26|5|2022\n",
       "985553          Tom Doe  tel: (396) 561-3616     98776    22|6|2022\n",
       "1809088   Emily Johnson  tel: (700) 784-6363     98776    14|5|2022\n",
       "109128     Bob Anderson  tel: (191) 496-4240     98776    7|12|2020\n",
       "\n",
       "[1900448 rows x 4 columns]"
      ]
     },
     "execution_count": 19,
     "metadata": {},
     "output_type": "execute_result"
    }
   ],
   "source": [
    "df"
   ]
  },
  {
   "cell_type": "markdown",
   "id": "ff4db535",
   "metadata": {},
   "source": [
    "# 3 Bonus. Drop unwanted charaters ($ , tel)"
   ]
  },
  {
   "cell_type": "code",
   "execution_count": 20,
   "id": "ba6170ec",
   "metadata": {},
   "outputs": [],
   "source": [
    "# df['Column A'].str.replace('$', '')\n",
    "df['Phone Number'] = df['Phone Number'].str.replace('tel: ', '')\n"
   ]
  },
  {
   "cell_type": "markdown",
   "id": "c14b4b8e",
   "metadata": {},
   "source": [
    "# 4. Splitting a column into multiple columns"
   ]
  },
  {
   "cell_type": "code",
   "execution_count": 21,
   "id": "57f993b8",
   "metadata": {},
   "outputs": [
    {
     "data": {
      "text/html": [
       "<div>\n",
       "<style scoped>\n",
       "    .dataframe tbody tr th:only-of-type {\n",
       "        vertical-align: middle;\n",
       "    }\n",
       "\n",
       "    .dataframe tbody tr th {\n",
       "        vertical-align: top;\n",
       "    }\n",
       "\n",
       "    .dataframe thead th {\n",
       "        text-align: right;\n",
       "    }\n",
       "</style>\n",
       "<table border=\"1\" class=\"dataframe\">\n",
       "  <thead>\n",
       "    <tr style=\"text-align: right;\">\n",
       "      <th></th>\n",
       "      <th>0</th>\n",
       "      <th>1</th>\n",
       "    </tr>\n",
       "  </thead>\n",
       "  <tbody>\n",
       "    <tr>\n",
       "      <th>1999999</th>\n",
       "      <td>427</td>\n",
       "      <td>726-4006</td>\n",
       "    </tr>\n",
       "    <tr>\n",
       "      <th>590819</th>\n",
       "      <td>968</td>\n",
       "      <td>579-1733</td>\n",
       "    </tr>\n",
       "    <tr>\n",
       "      <th>250605</th>\n",
       "      <td>685</td>\n",
       "      <td>543-6596</td>\n",
       "    </tr>\n",
       "    <tr>\n",
       "      <th>965547</th>\n",
       "      <td>314</td>\n",
       "      <td>769-6408</td>\n",
       "    </tr>\n",
       "    <tr>\n",
       "      <th>1561217</th>\n",
       "      <td>329</td>\n",
       "      <td>655-1008</td>\n",
       "    </tr>\n",
       "    <tr>\n",
       "      <th>...</th>\n",
       "      <td>...</td>\n",
       "      <td>...</td>\n",
       "    </tr>\n",
       "    <tr>\n",
       "      <th>985551</th>\n",
       "      <td>759</td>\n",
       "      <td>922-1735</td>\n",
       "    </tr>\n",
       "    <tr>\n",
       "      <th>313134</th>\n",
       "      <td>261</td>\n",
       "      <td>314-1860</td>\n",
       "    </tr>\n",
       "    <tr>\n",
       "      <th>985553</th>\n",
       "      <td>396</td>\n",
       "      <td>561-3616</td>\n",
       "    </tr>\n",
       "    <tr>\n",
       "      <th>1809088</th>\n",
       "      <td>700</td>\n",
       "      <td>784-6363</td>\n",
       "    </tr>\n",
       "    <tr>\n",
       "      <th>109128</th>\n",
       "      <td>191</td>\n",
       "      <td>496-4240</td>\n",
       "    </tr>\n",
       "  </tbody>\n",
       "</table>\n",
       "<p>1900448 rows × 2 columns</p>\n",
       "</div>"
      ],
      "text/plain": [
       "           0         1\n",
       "1999999  427  726-4006\n",
       "590819   968  579-1733\n",
       "250605   685  543-6596\n",
       "965547   314  769-6408\n",
       "1561217  329  655-1008\n",
       "...      ...       ...\n",
       "985551   759  922-1735\n",
       "313134   261  314-1860\n",
       "985553   396  561-3616\n",
       "1809088  700  784-6363\n",
       "109128   191  496-4240\n",
       "\n",
       "[1900448 rows x 2 columns]"
      ]
     },
     "execution_count": 21,
     "metadata": {},
     "output_type": "execute_result"
    }
   ],
   "source": [
    "df['Phone Number'].str.extract(r'\\((\\d{3})\\) (\\d{3}-\\d{4})')"
   ]
  },
  {
   "cell_type": "code",
   "execution_count": 22,
   "id": "2c6f07ea",
   "metadata": {},
   "outputs": [],
   "source": [
    "# Split phone numbers into area code and phone numbers\n",
    "df[['Area Code', 'Phone Number']] = df['Phone Number'].str.extract(r'\\((\\d{3})\\) (\\d{3}-\\d{4})')"
   ]
  },
  {
   "cell_type": "code",
   "execution_count": 23,
   "id": "daac99f7",
   "metadata": {},
   "outputs": [
    {
     "data": {
      "text/html": [
       "<div>\n",
       "<style scoped>\n",
       "    .dataframe tbody tr th:only-of-type {\n",
       "        vertical-align: middle;\n",
       "    }\n",
       "\n",
       "    .dataframe tbody tr th {\n",
       "        vertical-align: top;\n",
       "    }\n",
       "\n",
       "    .dataframe thead th {\n",
       "        text-align: right;\n",
       "    }\n",
       "</style>\n",
       "<table border=\"1\" class=\"dataframe\">\n",
       "  <thead>\n",
       "    <tr style=\"text-align: right;\">\n",
       "      <th></th>\n",
       "      <th>Name</th>\n",
       "      <th>Phone Number</th>\n",
       "      <th>Zip Code</th>\n",
       "      <th>Last Updated</th>\n",
       "      <th>Area Code</th>\n",
       "    </tr>\n",
       "  </thead>\n",
       "  <tbody>\n",
       "    <tr>\n",
       "      <th>1999999</th>\n",
       "      <td>Sarah Martin</td>\n",
       "      <td>726-4006</td>\n",
       "      <td>14422</td>\n",
       "      <td>19|7|2021</td>\n",
       "      <td>427</td>\n",
       "    </tr>\n",
       "    <tr>\n",
       "      <th>590819</th>\n",
       "      <td>Jane White</td>\n",
       "      <td>579-1733</td>\n",
       "      <td>14422</td>\n",
       "      <td>25|1|2022</td>\n",
       "      <td>968</td>\n",
       "    </tr>\n",
       "    <tr>\n",
       "      <th>250605</th>\n",
       "      <td>Tom White</td>\n",
       "      <td>543-6596</td>\n",
       "      <td>14422</td>\n",
       "      <td>18|6|2020</td>\n",
       "      <td>685</td>\n",
       "    </tr>\n",
       "    <tr>\n",
       "      <th>965547</th>\n",
       "      <td>Sarah Davis</td>\n",
       "      <td>769-6408</td>\n",
       "      <td>14422</td>\n",
       "      <td>25|3|2020</td>\n",
       "      <td>314</td>\n",
       "    </tr>\n",
       "    <tr>\n",
       "      <th>1561217</th>\n",
       "      <td>John Davis</td>\n",
       "      <td>655-1008</td>\n",
       "      <td>14422</td>\n",
       "      <td>19|10|2022</td>\n",
       "      <td>329</td>\n",
       "    </tr>\n",
       "  </tbody>\n",
       "</table>\n",
       "</div>"
      ],
      "text/plain": [
       "                 Name Phone Number  Zip Code Last Updated Area Code\n",
       "1999999  Sarah Martin     726-4006     14422    19|7|2021       427\n",
       "590819     Jane White     579-1733     14422    25|1|2022       968\n",
       "250605      Tom White     543-6596     14422    18|6|2020       685\n",
       "965547    Sarah Davis     769-6408     14422    25|3|2020       314\n",
       "1561217    John Davis     655-1008     14422   19|10|2022       329"
      ]
     },
     "execution_count": 23,
     "metadata": {},
     "output_type": "execute_result"
    }
   ],
   "source": [
    "df.head()"
   ]
  },
  {
   "cell_type": "markdown",
   "id": "b0dabeb3",
   "metadata": {},
   "source": [
    "# 5. Convert Strage Dates to proper datatime"
   ]
  },
  {
   "cell_type": "code",
   "execution_count": 24,
   "id": "239b5dba",
   "metadata": {},
   "outputs": [
    {
     "data": {
      "text/plain": [
       "1999999     19|7|2021\n",
       "590819      25|1|2022\n",
       "250605      18|6|2020\n",
       "965547      25|3|2020\n",
       "1561217    19|10|2022\n",
       "              ...    \n",
       "985551     23|11|2022\n",
       "313134      26|5|2022\n",
       "985553      22|6|2022\n",
       "1809088     14|5|2022\n",
       "109128      7|12|2020\n",
       "Name: Last Updated, Length: 1900448, dtype: object"
      ]
     },
     "execution_count": 24,
     "metadata": {},
     "output_type": "execute_result"
    }
   ],
   "source": [
    "df['Last Updated']"
   ]
  },
  {
   "cell_type": "code",
   "execution_count": 25,
   "id": "6d548608",
   "metadata": {},
   "outputs": [],
   "source": [
    "df['Last Updated'] = pd.to_datetime(df['Last Updated'], format='%d|%m|%Y')\n"
   ]
  },
  {
   "cell_type": "code",
   "execution_count": 26,
   "id": "17c3c9c8",
   "metadata": {},
   "outputs": [
    {
     "data": {
      "text/html": [
       "<div>\n",
       "<style scoped>\n",
       "    .dataframe tbody tr th:only-of-type {\n",
       "        vertical-align: middle;\n",
       "    }\n",
       "\n",
       "    .dataframe tbody tr th {\n",
       "        vertical-align: top;\n",
       "    }\n",
       "\n",
       "    .dataframe thead th {\n",
       "        text-align: right;\n",
       "    }\n",
       "</style>\n",
       "<table border=\"1\" class=\"dataframe\">\n",
       "  <thead>\n",
       "    <tr style=\"text-align: right;\">\n",
       "      <th></th>\n",
       "      <th>Name</th>\n",
       "      <th>Phone Number</th>\n",
       "      <th>Zip Code</th>\n",
       "      <th>Last Updated</th>\n",
       "      <th>Area Code</th>\n",
       "    </tr>\n",
       "  </thead>\n",
       "  <tbody>\n",
       "    <tr>\n",
       "      <th>1999999</th>\n",
       "      <td>Sarah Martin</td>\n",
       "      <td>726-4006</td>\n",
       "      <td>14422</td>\n",
       "      <td>2021-07-19</td>\n",
       "      <td>427</td>\n",
       "    </tr>\n",
       "    <tr>\n",
       "      <th>590819</th>\n",
       "      <td>Jane White</td>\n",
       "      <td>579-1733</td>\n",
       "      <td>14422</td>\n",
       "      <td>2022-01-25</td>\n",
       "      <td>968</td>\n",
       "    </tr>\n",
       "    <tr>\n",
       "      <th>250605</th>\n",
       "      <td>Tom White</td>\n",
       "      <td>543-6596</td>\n",
       "      <td>14422</td>\n",
       "      <td>2020-06-18</td>\n",
       "      <td>685</td>\n",
       "    </tr>\n",
       "    <tr>\n",
       "      <th>965547</th>\n",
       "      <td>Sarah Davis</td>\n",
       "      <td>769-6408</td>\n",
       "      <td>14422</td>\n",
       "      <td>2020-03-25</td>\n",
       "      <td>314</td>\n",
       "    </tr>\n",
       "    <tr>\n",
       "      <th>1561217</th>\n",
       "      <td>John Davis</td>\n",
       "      <td>655-1008</td>\n",
       "      <td>14422</td>\n",
       "      <td>2022-10-19</td>\n",
       "      <td>329</td>\n",
       "    </tr>\n",
       "    <tr>\n",
       "      <th>...</th>\n",
       "      <td>...</td>\n",
       "      <td>...</td>\n",
       "      <td>...</td>\n",
       "      <td>...</td>\n",
       "      <td>...</td>\n",
       "    </tr>\n",
       "    <tr>\n",
       "      <th>985551</th>\n",
       "      <td>David Thompson</td>\n",
       "      <td>922-1735</td>\n",
       "      <td>98776</td>\n",
       "      <td>2022-11-23</td>\n",
       "      <td>759</td>\n",
       "    </tr>\n",
       "    <tr>\n",
       "      <th>313134</th>\n",
       "      <td>Emily Thompson</td>\n",
       "      <td>314-1860</td>\n",
       "      <td>98776</td>\n",
       "      <td>2022-05-26</td>\n",
       "      <td>261</td>\n",
       "    </tr>\n",
       "    <tr>\n",
       "      <th>985553</th>\n",
       "      <td>Tom Doe</td>\n",
       "      <td>561-3616</td>\n",
       "      <td>98776</td>\n",
       "      <td>2022-06-22</td>\n",
       "      <td>396</td>\n",
       "    </tr>\n",
       "    <tr>\n",
       "      <th>1809088</th>\n",
       "      <td>Emily Johnson</td>\n",
       "      <td>784-6363</td>\n",
       "      <td>98776</td>\n",
       "      <td>2022-05-14</td>\n",
       "      <td>700</td>\n",
       "    </tr>\n",
       "    <tr>\n",
       "      <th>109128</th>\n",
       "      <td>Bob Anderson</td>\n",
       "      <td>496-4240</td>\n",
       "      <td>98776</td>\n",
       "      <td>2020-12-07</td>\n",
       "      <td>191</td>\n",
       "    </tr>\n",
       "  </tbody>\n",
       "</table>\n",
       "<p>1900448 rows × 5 columns</p>\n",
       "</div>"
      ],
      "text/plain": [
       "                   Name Phone Number  Zip Code Last Updated Area Code\n",
       "1999999    Sarah Martin     726-4006     14422   2021-07-19       427\n",
       "590819       Jane White     579-1733     14422   2022-01-25       968\n",
       "250605        Tom White     543-6596     14422   2020-06-18       685\n",
       "965547      Sarah Davis     769-6408     14422   2020-03-25       314\n",
       "1561217      John Davis     655-1008     14422   2022-10-19       329\n",
       "...                 ...          ...       ...          ...       ...\n",
       "985551   David Thompson     922-1735     98776   2022-11-23       759\n",
       "313134   Emily Thompson     314-1860     98776   2022-05-26       261\n",
       "985553          Tom Doe     561-3616     98776   2022-06-22       396\n",
       "1809088   Emily Johnson     784-6363     98776   2022-05-14       700\n",
       "109128     Bob Anderson     496-4240     98776   2020-12-07       191\n",
       "\n",
       "[1900448 rows x 5 columns]"
      ]
     },
     "execution_count": 26,
     "metadata": {},
     "output_type": "execute_result"
    }
   ],
   "source": [
    "df"
   ]
  },
  {
   "cell_type": "code",
   "execution_count": null,
   "id": "dc5c4ead",
   "metadata": {},
   "outputs": [],
   "source": []
  }
 ],
 "metadata": {
  "kernelspec": {
   "display_name": "Python 3 (ipykernel)",
   "language": "python",
   "name": "python3"
  },
  "language_info": {
   "codemirror_mode": {
    "name": "ipython",
    "version": 3
   },
   "file_extension": ".py",
   "mimetype": "text/x-python",
   "name": "python",
   "nbconvert_exporter": "python",
   "pygments_lexer": "ipython3",
   "version": "3.10.2"
  }
 },
 "nbformat": 4,
 "nbformat_minor": 5
}
